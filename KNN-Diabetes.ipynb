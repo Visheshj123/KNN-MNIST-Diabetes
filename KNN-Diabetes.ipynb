{
 "cells": [
  {
   "cell_type": "markdown",
   "metadata": {},
   "source": [
    "# Pima KNN "
   ]
  },
  {
   "cell_type": "code",
   "execution_count": 1,
   "metadata": {},
   "outputs": [],
   "source": [
    "import numpy as np\n",
    "import pandas as pd\n",
    "import seaborn as sns\n",
    "from math import sqrt\n",
    "import time as time\n",
    "from matplotlib import pyplot as plt\n",
    "import sys\n",
    "sns.set()\n",
    "from tqdm import tqdm\n",
    "\n",
    "#import dataset\n",
    "diabetes_data = pd.read_csv('diabetes.csv')"
   ]
  },
  {
   "cell_type": "markdown",
   "metadata": {},
   "source": [
    "## Dataset Details\n",
    "\n",
    "From the visualizatons I noted a significant imbalance between outcome 0 and 1. As for the features, the data set skews toward young people with few children, mid-low blood pressure who are obese. In order to get a better sense of which features are correlated with Diabetes I outputted a correlation matrix, which shows that blood pressure and skin thickness have little relevance to our dependent variable. "
   ]
  },
  {
   "cell_type": "code",
   "execution_count": 2,
   "metadata": {},
   "outputs": [
    {
     "data": {
      "image/png": "[encoded data removed]",
      "text/plain": [
       "<Figure size 432x288 with 1 Axes>"
      ]
     },
     "metadata": {},
     "output_type": "display_data"
    }
   ],
   "source": [
    "#How balanced is my dataset for those who have diabetes and those who don't?\n",
    "ax = sns.countplot(x='Outcome',data=diabetes_data)"
   ]
  },
  {
   "cell_type": "code",
   "execution_count": 3,
   "metadata": {},
   "outputs": [
    {
     "data": {
      "text/plain": [
       "Pregnancies                   int64\n",
       "Glucose                       int64\n",
       "BloodPressure                 int64\n",
       "SkinThickness                 int64\n",
       "Insulin                       int64\n",
       "BMI                         float64\n",
       "DiabetesPedigreeFunction    float64\n",
       "Age                           int64\n",
       "Outcome                       int64\n",
       "dtype: object"
      ]
     },
     "execution_count": 3,
     "metadata": {},
     "output_type": "execute_result"
    }
   ],
   "source": [
    "#is all my data numerical and therefore useful? --> Yes\n",
    "diabetes_data.dtypes"
   ]
  },
  {
   "cell_type": "code",
   "execution_count": 4,
   "metadata": {},
   "outputs": [
    {
     "data": {
      "text/html": [
       "<div>\n",
       "<style scoped>\n",
       "    .dataframe tbody tr th:only-of-type {\n",
       "        vertical-align: middle;\n",
       "    }\n",
       "\n",
       "    .dataframe tbody tr th {\n",
       "        vertical-align: top;\n",
       "    }\n",
       "\n",
       "    .dataframe thead th {\n",
       "        text-align: right;\n",
       "    }\n",
       "</style>\n",
       "<table border=\"1\" class=\"dataframe\">\n",
       "  <thead>\n",
       "    <tr style=\"text-align: right;\">\n",
       "      <th></th>\n",
       "      <th>Pregnancies</th>\n",
       "      <th>Glucose</th>\n",
       "      <th>BloodPressure</th>\n",
       "      <th>SkinThickness</th>\n",
       "      <th>Insulin</th>\n",
       "      <th>BMI</th>\n",
       "      <th>DiabetesPedigreeFunction</th>\n",
       "      <th>Age</th>\n",
       "      <th>Outcome</th>\n",
       "    </tr>\n",
       "  </thead>\n",
       "  <tbody>\n",
       "    <tr>\n",
       "      <th>count</th>\n",
       "      <td>768.000000</td>\n",
       "      <td>768.000000</td>\n",
       "      <td>768.000000</td>\n",
       "      <td>768.000000</td>\n",
       "      <td>768.000000</td>\n",
       "      <td>768.000000</td>\n",
       "      <td>768.000000</td>\n",
       "      <td>768.000000</td>\n",
       "      <td>768.000000</td>\n",
       "    </tr>\n",
       "    <tr>\n",
       "      <th>mean</th>\n",
       "      <td>3.845052</td>\n",
       "      <td>120.894531</td>\n",
       "      <td>69.105469</td>\n",
       "      <td>20.536458</td>\n",
       "      <td>79.799479</td>\n",
       "      <td>31.992578</td>\n",
       "      <td>0.471876</td>\n",
       "      <td>33.240885</td>\n",
       "      <td>0.348958</td>\n",
       "    </tr>\n",
       "    <tr>\n",
       "      <th>std</th>\n",
       "      <td>3.369578</td>\n",
       "      <td>31.972618</td>\n",
       "      <td>19.355807</td>\n",
       "      <td>15.952218</td>\n",
       "      <td>115.244002</td>\n",
       "      <td>7.884160</td>\n",
       "      <td>0.331329</td>\n",
       "      <td>11.760232</td>\n",
       "      <td>0.476951</td>\n",
       "    </tr>\n",
       "    <tr>\n",
       "      <th>min</th>\n",
       "      <td>0.000000</td>\n",
       "      <td>0.000000</td>\n",
       "      <td>0.000000</td>\n",
       "      <td>0.000000</td>\n",
       "      <td>0.000000</td>\n",
       "      <td>0.000000</td>\n",
       "      <td>0.078000</td>\n",
       "      <td>21.000000</td>\n",
       "      <td>0.000000</td>\n",
       "    </tr>\n",
       "    <tr>\n",
       "      <th>25%</th>\n",
       "      <td>1.000000</td>\n",
       "      <td>99.000000</td>\n",
       "      <td>62.000000</td>\n",
       "      <td>0.000000</td>\n",
       "      <td>0.000000</td>\n",
       "      <td>27.300000</td>\n",
       "      <td>0.243750</td>\n",
       "      <td>24.000000</td>\n",
       "      <td>0.000000</td>\n",
       "    </tr>\n",
       "    <tr>\n",
       "      <th>50%</th>\n",
       "      <td>3.000000</td>\n",
       "      <td>117.000000</td>\n",
       "      <td>72.000000</td>\n",
       "      <td>23.000000</td>\n",
       "      <td>30.500000</td>\n",
       "      <td>32.000000</td>\n",
       "      <td>0.372500</td>\n",
       "      <td>29.000000</td>\n",
       "      <td>0.000000</td>\n",
       "    </tr>\n",
       "    <tr>\n",
       "      <th>75%</th>\n",
       "      <td>6.000000</td>\n",
       "      <td>140.250000</td>\n",
       "      <td>80.000000</td>\n",
       "      <td>32.000000</td>\n",
       "      <td>127.250000</td>\n",
       "      <td>36.600000</td>\n",
       "      <td>0.626250</td>\n",
       "      <td>41.000000</td>\n",
       "      <td>1.000000</td>\n",
       "    </tr>\n",
       "    <tr>\n",
       "      <th>max</th>\n",
       "      <td>17.000000</td>\n",
       "      <td>199.000000</td>\n",
       "      <td>122.000000</td>\n",
       "      <td>99.000000</td>\n",
       "      <td>846.000000</td>\n",
       "      <td>67.100000</td>\n",
       "      <td>2.420000</td>\n",
       "      <td>81.000000</td>\n",
       "      <td>1.000000</td>\n",
       "    </tr>\n",
       "  </tbody>\n",
       "</table>\n",
       "</div>"
      ],
      "text/plain": [
       "       Pregnancies     Glucose  BloodPressure  SkinThickness     Insulin  \\\n",
       "count   768.000000  768.000000     768.000000     768.000000  768.000000   \n",
       "mean      3.845052  120.894531      69.105469      20.536458   79.799479   \n",
       "std       3.369578   31.972618      19.355807      15.952218  115.244002   \n",
       "min       0.000000    0.000000       0.000000       0.000000    0.000000   \n",
       "25%       1.000000   99.000000      62.000000       0.000000    0.000000   \n",
       "50%       3.000000  117.000000      72.000000      23.000000   30.500000   \n",
       "75%       6.000000  140.250000      80.000000      32.000000  127.250000   \n",
       "max      17.000000  199.000000     122.000000      99.000000  846.000000   \n",
       "\n",
       "              BMI  DiabetesPedigreeFunction         Age     Outcome  \n",
       "count  768.000000                768.000000  768.000000  768.000000  \n",
       "mean    31.992578                  0.471876   33.240885    0.348958  \n",
       "std      7.884160                  0.331329   11.760232    0.476951  \n",
       "min      0.000000                  0.078000   21.000000    0.000000  \n",
       "25%     27.300000                  0.243750   24.000000    0.000000  \n",
       "50%     32.000000                  0.372500   29.000000    0.000000  \n",
       "75%     36.600000                  0.626250   41.000000    1.000000  \n",
       "max     67.100000                  2.420000   81.000000    1.000000  "
      ]
     },
     "execution_count": 4,
     "metadata": {},
     "output_type": "execute_result"
    }
   ],
   "source": [
    "#what are the range of values for each feature and should they be normalized? --> Yes\n",
    "diabetes_data.describe()"
   ]
  },
  {
   "cell_type": "code",
   "execution_count": 5,
   "metadata": {
    "scrolled": false
   },
   "outputs": [
    {
     "data": {
      "image/png": "[encoded data removed]",
      "text/plain": [
       "<Figure size 1296x1080 with 8 Axes>"
      ]
     },
     "metadata": {},
     "output_type": "display_data"
    }
   ],
   "source": [
    "#What are the distributions for every feature?\n",
    "def showHistograms(data):\n",
    "    fig, axes = plt.subplots(4,2, figsize=(18,15), sharey=True)\n",
    "\n",
    "\n",
    "    sns.histplot(ax=axes[0][0], data = data, x='Pregnancies', hue='Outcome')\n",
    "    sns.histplot(ax=axes[0][1], data = data, x='Glucose', hue='Outcome')\n",
    "    sns.histplot(ax=axes[1][0], data = data, x='BloodPressure', hue='Outcome')\n",
    "    sns.histplot(ax=axes[1][1], data = data, x='SkinThickness', hue='Outcome')\n",
    "    sns.histplot(ax=axes[2][0], data = data, x='Insulin', hue='Outcome')\n",
    "    sns.histplot(ax=axes[2][1], data = data, x='BMI', hue='Outcome')\n",
    "    sns.histplot(ax=axes[3][0], data = data, x='DiabetesPedigreeFunction', hue='Outcome')\n",
    "    sns.histplot(ax=axes[3][1], data = data, x='Age', hue='Outcome')\n",
    "    \n",
    "showHistograms(diabetes_data)\n",
    "\n",
    "\n",
    "\n"
   ]
  },
  {
   "cell_type": "code",
   "execution_count": 6,
   "metadata": {},
   "outputs": [
    {
     "data": {
      "image/png": "[encoded data removed]",
      "text/plain": [
       "<Figure size 432x288 with 2 Axes>"
      ]
     },
     "metadata": {},
     "output_type": "display_data"
    }
   ],
   "source": [
    "#What features are strongly correlated to label, and which arent?\n",
    "\n",
    "ax = sns.heatmap(diabetes_data.corr(), cmap='RdPu')\n"
   ]
  },
  {
   "cell_type": "markdown",
   "metadata": {},
   "source": [
    "## Train-Test Split \n",
    "\n",
    "Because our data set is heavily imbalanced, I want to make sure that the model doesn't have a bias toward class 0. Furthermore it's not clear which K i should use for this binary classifcation problem, which means we need hyperparameter tuning. Therefore, I split the data into training and validation/testing. Merging the testing and validation data set allowed me to maximize the size of a balanced training set. Ideally, this should better enable the training data to [capture the generalized trends of the data](https://machinelearningmastery.com/undersampling-algorithms-for-imbalanced-classification/). The result is a 52%/48% split between training and testing, with the training set having 200 random samples for each outcome and the for testing/validation set having 300/60 for testing. "
   ]
  },
  {
   "cell_type": "code",
   "execution_count": 7,
   "metadata": {},
   "outputs": [],
   "source": [
    "def train_test_split(col_to_group, data, sample_size):\n",
    "    \n",
    "    #for loop through every group and sample, generate concatenated dataframe calling train\n",
    "    grouped_data = data.groupby([col_to_group])\n",
    "    train = pd.DataFrame()\n",
    "\n",
    "    for label, group in grouped_data:\n",
    "        train = pd.concat([train,group.sample(n=sample_size)])\n",
    "    \n",
    "    #get left only using original data and concatenated data.\n",
    "    \n",
    "    test = data.merge(train, how='left', indicator=True)\n",
    "    test = test[test['_merge'] == 'left_only']\n",
    "    test_label = test[col_to_group]\n",
    "    test.drop(columns=['_merge',col_to_group], inplace=True)\n",
    "  \n",
    "    \n",
    "    \n",
    "    return (train,test,test_label)\n",
    "\n"
   ]
  },
  {
   "cell_type": "markdown",
   "metadata": {},
   "source": [
    "## Algorithm Description"
   ]
  },
  {
   "cell_type": "markdown",
   "metadata": {},
   "source": [
    "### Preprocessing\n",
    "In the data visualization section I discovered that skin thickness and blood pressure have the weakest relationship with the outcome variable. They would do little in helping our classifcaiton and were therefore removed from both training and testing sets. I also normalized each data set since the distance function for KNN is sensitive to the scale of each feature. It's important to note that I normalized after partitioning the data to [avoid data leakage](https://towardsdatascience.com/data-leakage-in-machine-learning-10bdd3eec742). I also removed all duplicates in both datasets. "
   ]
  },
  {
   "cell_type": "code",
   "execution_count": 8,
   "metadata": {},
   "outputs": [],
   "source": [
    "#Normalize data due to scaling differences acrosss features, \n",
    "def preprocess_data(train, test):\n",
    "    \n",
    "    train.drop_duplicates(inplace=True)\n",
    "    test.drop_duplicates(inplace=True)\n",
    "    \n",
    "    test.drop(columns=['SkinThickness','BloodPressure'], inplace=True)\n",
    "    train.drop(columns=['SkinThickness','BloodPressure'], inplace=True)\n",
    "    \n",
    "    for column in train:\n",
    "        if(column == 'Outcome'):\n",
    "            break\n",
    "        train[column] = ((train[column]-train[column].min())/(train[column].max() - train[column].min()))\n",
    "        test[column] = ((test[column]-test[column].min())/(test[column].max() - test[column].min()))\n",
    "    \n",
    "    return (train,test)"
   ]
  },
  {
   "cell_type": "code",
   "execution_count": 57,
   "metadata": {},
   "outputs": [],
   "source": [
    "class KNN:\n",
    "    \n",
    "    \n",
    "    def __init__(self, data, k, func): #input is training set,k-value, and distance metric\n",
    "        self.data = data\n",
    "        self.k = k\n",
    "        self.dist_arr = []\n",
    "        self.func = func\n",
    "        \n",
    "    \n",
    "    \n",
    "    def getDistance(self, x1, x2):\n",
    "        \n",
    "        return self.func(self,x1,x2)\n",
    "            \n",
    "    \n",
    "    #return sorted dataframe of neighbors using training set and test point\n",
    "    def getNeighbors(self, test_pt):\n",
    "        #for each training point, get distance, store in array along with label\n",
    "        for i, row in self.data.iterrows():\n",
    "            label, dist = self.getDistance(test_pt, row)\n",
    "            self.dist_arr.append({\"label\":label, \"distance\": dist})\n",
    "        \n",
    "        \n",
    "    \n",
    "    #use sorted dataframe to return the averge label of the k^th elements\n",
    "    def predict(self, test_pt):\n",
    "        self.getNeighbors(test_pt)\n",
    "        sorted_arr = sorted(self.dist_arr,key = lambda i: i['distance']) #sort by distance\n",
    "        self.dist_arr = []\n",
    "        #print(sorted_arr)\n",
    "        \n",
    "        total = {'0':0, '1': 0, '2':0, '3':0, '4':0,'5':0,'6':0,'7':0,'8':0,'9':0}\n",
    "        \n",
    "        for i in range(0,self.k):\n",
    "             total[str(int(sorted_arr[i]['label']))] += 1\n",
    "            \n",
    "           \n",
    "        return int(max(total, key=total.get))\n",
    "            \n",
    "\n"
   ]
  },
  {
   "cell_type": "markdown",
   "metadata": {},
   "source": [
    "### Hyperparameters\n",
    "\n",
    "To find the best model three distance metrics were used: [Euclidean, Hamiltonian, and Cosine](https://www.kdnuggets.com/2020/11/most-popular-distance-metrics-knn.html). I also tested k values of 3 and 5. for each distance metric. "
   ]
  },
  {
   "cell_type": "code",
   "execution_count": 10,
   "metadata": {},
   "outputs": [],
   "source": [
    "def get_e_distance(self, x1,x2):\n",
    "    #seperate label from the rest \n",
    "    label = ''\n",
    "    row = ''\n",
    "    if 'Outcome' in x2.index:\n",
    "        label = x2['Outcome']\n",
    "        row = x2.drop(labels='Outcome')  \n",
    "    if 'label' in x2.index:\n",
    "        label = x2['label']\n",
    "        row = x2.drop(labels='label')\n",
    "\n",
    "    row = x1 - row \n",
    "\n",
    "    row = row.pow(2) \n",
    "\n",
    "    dist = row.sum() \n",
    "\n",
    "\n",
    "    return (label,sqrt(dist)) "
   ]
  },
  {
   "cell_type": "code",
   "execution_count": 11,
   "metadata": {},
   "outputs": [],
   "source": [
    "def get_m_distance(self, x1,x2):\n",
    "    label = ''\n",
    "    row = ''\n",
    "    if 'Outcome' in x2.index:\n",
    "        label = x2['Outcome']\n",
    "        row = x2.drop(labels='Outcome')  \n",
    "    if 'label' in x2.index:\n",
    "        label = x2['label']\n",
    "        row = x2.drop(labels='label')\n",
    "        #print('in label')\n",
    "   \n",
    "    row = x1 - row\n",
    "   \n",
    "    row = row.abs()\n",
    "    \n",
    "    dist = row.sum()\n",
    "    return (label, dist)"
   ]
  },
  {
   "cell_type": "code",
   "execution_count": 12,
   "metadata": {},
   "outputs": [],
   "source": [
    "def get_c_distance(self,x1,x2):\n",
    "    label = ''\n",
    "    row = ''\n",
    "    if 'Outcome' in x2.index:\n",
    "        label = x2['Outcome']\n",
    "        row = x2.drop(labels='Outcome')  \n",
    "    if 'label' in x2.index:\n",
    "        label = x2['label']\n",
    "        row = x2.drop(labels='label')\n",
    "    num = row.dot(x1) \n",
    "    denom = sqrt(row.dot(row)) * sqrt(x1.dot(x1))\n",
    "    return (label, 1 - (num/denom))\n",
    "    \n",
    "    "
   ]
  },
  {
   "cell_type": "code",
   "execution_count": 13,
   "metadata": {},
   "outputs": [],
   "source": [
    "def measure_performance(y_actual, y_pred):\n",
    "    TP = 0\n",
    "    FP = 0\n",
    "    TN = 0\n",
    "    FN = 0\n",
    "    \n",
    "    index = 0\n",
    "    for _,row in y_actual.items():\n",
    "        if((row == 1) and (y_pred[index] == 1)):\n",
    "            TP+=1\n",
    "        if((row == 0) and (y_pred[index] == 0)):\n",
    "            TN+=1\n",
    "        if((row == 1) and (y_pred[index] == 0)):\n",
    "            FN+=1\n",
    "        if((row == 0) and (y_pred[index] == 1)):\n",
    "            FP+=1\n",
    "        index+=1\n",
    "    return (TP, FP, TN, FN)\n",
    "        \n",
    "      \n",
    "    "
   ]
  },
  {
   "cell_type": "code",
   "execution_count": 58,
   "metadata": {},
   "outputs": [],
   "source": [
    "def measure_performance_images(y_actual, y_pred):\n",
    "   # F0, T0, F1, T1, F2, T2, F3, T3, F4, T4, F5, T5, F6, T6, F7, T7, F8, T8, F9, T9 \n",
    "    metrics = [[0 for i in range(10)] for j in range(10)]\n",
    "    index = 0\n",
    "    for _,row in y_actual.items():\n",
    "        metrics[row][y_pred[index]] += 1\n",
    "        index+=1\n",
    "    return metrics\n",
    "        \n",
    "      "
   ]
  },
  {
   "cell_type": "markdown",
   "metadata": {},
   "source": [
    "## Algorithm Results"
   ]
  },
  {
   "cell_type": "code",
   "execution_count": 14,
   "metadata": {},
   "outputs": [],
   "source": [
    "def train_build_eval(k, distance_func, train, test, test_label):\n",
    "    \n",
    "    model = KNN(data = train, k = k, func = distance_func) #train model \n",
    "   \n",
    "    y_pred = []\n",
    "    curr = time.time()\n",
    "    index = 0\n",
    "    with tqdm(total=len(test)) as pbar:\n",
    "        for i, row in test.iterrows():  \n",
    "            #print('predicting {} row'.format(index))\n",
    "            y_pred.append(model.predict(row)) #gets predictions\n",
    "            pbar.update(1)\n",
    "            index += 1\n",
    "    post = time.time()\n",
    "    return ((post-curr) * 1000, measure_performance(test_label,y_pred)) #measure performance"
   ]
  },
  {
   "cell_type": "code",
   "execution_count": 59,
   "metadata": {},
   "outputs": [],
   "source": [
    "def train_build_eval_images(k, distance_func, train, test, test_label):\n",
    "    \n",
    "    model = KNN(data = train, k = k, func = distance_func) #train model \n",
    "   \n",
    "    y_pred = []\n",
    "    curr = time.time()\n",
    "    index = 0\n",
    "    with tqdm(total=len(test)) as pbar:\n",
    "        for i, row in test.iterrows():  \n",
    "            #print('predicting {} row'.format(index))\n",
    "            y_pred.append(model.predict(row)) #gets predictions\n",
    "            pbar.update(1)\n",
    "            index += 1\n",
    "    post = time.time()\n",
    "    return ((post-curr) * 1000, measure_performance_images(test_label,y_pred)) #measure performance"
   ]
  },
  {
   "cell_type": "markdown",
   "metadata": {},
   "source": [
    "### Model Performance"
   ]
  },
  {
   "cell_type": "markdown",
   "metadata": {},
   "source": [
    "The results show that the model is accurate ~70% of the time and with a ~90% precision value for negative. However, the model too frequently labels positive incorrectly, resulting in a precision of ~38% for positive. This is likely a consequence of undersampling the negative labels, causing larger decision boundaries for positive values that would've been minimized with the introduction of more negative samples in the training data. In terms of distances metrics, the best one was Manhattan with k=3. It does not surprise me because manhattan performs better when the [features are dissimilar](https://machinelearningmastery.com/k-nearest-neighbors-for-machine-learning/). However, increasing k allows the model to have [smoother decision boundaries rather than having lots of variance due to the training data](https://machinelearningmastery.com/k-nearest-neighbors-for-machine-learning/), which can decrease the chances of erroneously labeling due to random, minute clusters of data. As a result I expected the higher value of k to perform better. If we ran multiple trials and averaged the metrics for each scenario, we may see k=5 outperform k=3 for Manhattan distance. The average time in milliseconds was about 12,000, which equates to 2 minutes. This is to be expected due to the gerneral slowness of the searching through the entire training set for every test entry and sorting the result. "
   ]
  },
  {
   "cell_type": "code",
   "execution_count": 23,
   "metadata": {},
   "outputs": [
    {
     "data": {
      "text/html": [
       "<div>\n",
       "<style scoped>\n",
       "    .dataframe tbody tr th:only-of-type {\n",
       "        vertical-align: middle;\n",
       "    }\n",
       "\n",
       "    .dataframe tbody tr th {\n",
       "        vertical-align: top;\n",
       "    }\n",
       "\n",
       "    .dataframe thead th {\n",
       "        text-align: right;\n",
       "    }\n",
       "</style>\n",
       "<table border=\"1\" class=\"dataframe\">\n",
       "  <thead>\n",
       "    <tr style=\"text-align: right;\">\n",
       "      <th></th>\n",
       "      <th>K-value</th>\n",
       "      <th>Distance_Metric</th>\n",
       "      <th>TP</th>\n",
       "      <th>FP</th>\n",
       "      <th>TN</th>\n",
       "      <th>FN</th>\n",
       "      <th>time(ms)</th>\n",
       "    </tr>\n",
       "  </thead>\n",
       "  <tbody>\n",
       "    <tr>\n",
       "      <th>0</th>\n",
       "      <td>3</td>\n",
       "      <td>Euclidean</td>\n",
       "      <td>48</td>\n",
       "      <td>96</td>\n",
       "      <td>204</td>\n",
       "      <td>20</td>\n",
       "      <td>149042.344809</td>\n",
       "    </tr>\n",
       "    <tr>\n",
       "      <th>1</th>\n",
       "      <td>5</td>\n",
       "      <td>Euclidean</td>\n",
       "      <td>55</td>\n",
       "      <td>121</td>\n",
       "      <td>179</td>\n",
       "      <td>13</td>\n",
       "      <td>141827.059031</td>\n",
       "    </tr>\n",
       "    <tr>\n",
       "      <th>2</th>\n",
       "      <td>3</td>\n",
       "      <td>Manhattan</td>\n",
       "      <td>48</td>\n",
       "      <td>77</td>\n",
       "      <td>223</td>\n",
       "      <td>20</td>\n",
       "      <td>118022.796631</td>\n",
       "    </tr>\n",
       "    <tr>\n",
       "      <th>3</th>\n",
       "      <td>5</td>\n",
       "      <td>Manhattan</td>\n",
       "      <td>47</td>\n",
       "      <td>114</td>\n",
       "      <td>186</td>\n",
       "      <td>21</td>\n",
       "      <td>123266.092777</td>\n",
       "    </tr>\n",
       "    <tr>\n",
       "      <th>4</th>\n",
       "      <td>3</td>\n",
       "      <td>Cosine</td>\n",
       "      <td>43</td>\n",
       "      <td>121</td>\n",
       "      <td>179</td>\n",
       "      <td>25</td>\n",
       "      <td>103954.514980</td>\n",
       "    </tr>\n",
       "    <tr>\n",
       "      <th>5</th>\n",
       "      <td>5</td>\n",
       "      <td>Cosine</td>\n",
       "      <td>44</td>\n",
       "      <td>109</td>\n",
       "      <td>191</td>\n",
       "      <td>24</td>\n",
       "      <td>108294.782162</td>\n",
       "    </tr>\n",
       "  </tbody>\n",
       "</table>\n",
       "</div>"
      ],
      "text/plain": [
       "  K-value Distance_Metric  TP   FP   TN  FN       time(ms)\n",
       "0       3       Euclidean  48   96  204  20  149042.344809\n",
       "1       5       Euclidean  55  121  179  13  141827.059031\n",
       "2       3       Manhattan  48   77  223  20  118022.796631\n",
       "3       5       Manhattan  47  114  186  21  123266.092777\n",
       "4       3          Cosine  43  121  179  25  103954.514980\n",
       "5       5          Cosine  44  109  191  24  108294.782162"
      ]
     },
     "execution_count": 23,
     "metadata": {},
     "output_type": "execute_result"
    }
   ],
   "source": [
    "distance_metrics = [get_e_distance, get_m_distance, get_c_distance]\n",
    "result = pd.DataFrame(columns=['K-value','Distance_Metric', 'TP', 'FP','TN', 'FN', 'time(ms)'])\n",
    "distance_names = ['Euclidean', 'Manhattan', 'Cosine']\n",
    "for i,get_distance in enumerate(distance_metrics):\n",
    "    for k in range(3,6,2):\n",
    "        train,test, test_label = train_test_split('Outcome', diabetes_data, 200 ) #get training and testing data set  \n",
    "        train, test = preprocess_data(train, test) #clean, seperate label from test data\n",
    "        t, metrics = train_build_eval(k, get_distance, train, test, test_label)\n",
    "        result = result.append({'K-value': k, 'Distance_Metric': distance_names[i], 'TP': metrics[0], 'FP': metrics[1], 'TN': metrics[2], 'FN':metrics[3], 'time(ms)':t}, ignore_index=True)\n",
    "result"
   ]
  },
  {
   "cell_type": "markdown",
   "metadata": {},
   "source": [
    "# MNIST KNN"
   ]
  },
  {
   "cell_type": "code",
   "execution_count": 15,
   "metadata": {},
   "outputs": [],
   "source": [
    "#import kaggle data set\n",
    "\n",
    "data = pd.read_csv('/Users/vishesh.javangula@ibm.com/Downloads/train.csv')"
   ]
  },
  {
   "cell_type": "markdown",
   "metadata": {},
   "source": [
    "## Datset Details\n",
    "\n",
    "Through our visualizations I can see how the images resemble handwriting rather than digital fonts. As a result I expect some error in our predictions due to the variances in human handwriting. Furthermore the footprint of the actual written number on the 28x28 canvas vary in size. This will infleunce my features selection process, or lack thereof, due to needing all 28^2 pixels. In terms of balance, I noted that we have significanlty fewer labels for digit '5' than others. "
   ]
  },
  {
   "cell_type": "code",
   "execution_count": 25,
   "metadata": {
    "scrolled": false
   },
   "outputs": [
    {
     "name": "stderr",
     "output_type": "stream",
     "text": [
      "/opt/anaconda3/lib/python3.6/site-packages/pandas/core/frame.py:4117: SettingWithCopyWarning: \n",
      "A value is trying to be set on a copy of a slice from a DataFrame\n",
      "\n",
      "See the caveats in the documentation: http://pandas.pydata.org/pandas-docs/stable/user_guide/indexing.html#returning-a-view-versus-a-copy\n",
      "  errors=errors,\n"
     ]
    },
    {
     "data": {
      "image/png": "[encoded data removed]",
      "text/plain": [
       "<Figure size 1080x576 with 10 Axes>"
      ]
     },
     "metadata": {},
     "output_type": "display_data"
    }
   ],
   "source": [
    "#Visualization\n",
    "from PIL import Image as im\n",
    "fig, ax = plt.subplots(2,5, figsize=(15,8), sharey=True)\n",
    "grouped_images = data.groupby(['label'])\n",
    "\n",
    "for j, group in enumerate(grouped_images):\n",
    "    labels, values = group\n",
    "    values.drop(columns=['label'], inplace=True)\n",
    "    num = values.iloc[0].to_numpy()\n",
    "    num = np.reshape(num,(28,28)) #converts to correct dimensions\n",
    "    ax[int(j/5)][j % 5].imshow(num)"
   ]
  },
  {
   "cell_type": "code",
   "execution_count": 63,
   "metadata": {},
   "outputs": [
    {
     "data": {
      "text/plain": [
       "(42000, 785)"
      ]
     },
     "execution_count": 63,
     "metadata": {},
     "output_type": "execute_result"
    }
   ],
   "source": [
    "data.shape"
   ]
  },
  {
   "cell_type": "code",
   "execution_count": 26,
   "metadata": {},
   "outputs": [
    {
     "data": {
      "image/png": "[encoded data removed]",
      "text/plain": [
       "<Figure size 432x288 with 1 Axes>"
      ]
     },
     "metadata": {},
     "output_type": "display_data"
    }
   ],
   "source": [
    "#How balanced is my dataset?\n",
    "ax = sns.countplot(x='label', data=data)"
   ]
  },
  {
   "cell_type": "markdown",
   "metadata": {},
   "source": [
    "## Algorithm Description\n",
    "Because the metric for each feature is the same, there is no point in normalizing data. Furthermore we cannot employ dimesionality reduction as every pixel is needed to recreate the image. Therefore the only preprocessing I did was remove duplicates. However, I did only use a subsample of the dataset as the slowness of KNN would result in the algorithm taking 3-4 days to finish. I decided to sample 500 rows from each label for a total dataset size of 5,000. Using this balanced dataset I implemented a typical 70/30 split while ensuring that the training and testing dataset still had a uniform distributions of labels. I also used hyperparamter tuning for k-values to find the optimal model. The training set will be randomly sampled to ensure honest hyperparameter analysis. Because the range of each feature is similar I decided to use Euclidean distance as [it is known to perform better in these scenarios](https://machinelearningmastery.com/k-nearest-neighbors-for-machine-learning/). The results are shared via confusion matrix. \n",
    "\n",
    "I also measured the effect of k on model accuracy by only testing label 0 on my training data. Euclidean distance was used in order to get the highest accuracy possible."
   ]
  },
  {
   "cell_type": "code",
   "execution_count": 76,
   "metadata": {},
   "outputs": [],
   "source": [
    "data.drop_duplicates(inplace=True)"
   ]
  },
  {
   "cell_type": "code",
   "execution_count": 77,
   "metadata": {},
   "outputs": [],
   "source": [
    "#subset of data\n",
    "sub_data = pd.DataFrame()\n",
    "for label, group in data.groupby(by='label'):\n",
    "        sub_data = pd.concat([sub_data,group.sample(n=500)])"
   ]
  },
  {
   "cell_type": "code",
   "execution_count": 78,
   "metadata": {},
   "outputs": [
    {
     "data": {
      "image/png": "[encoded data removed]",
      "text/plain": [
       "<Figure size 432x288 with 1 Axes>"
      ]
     },
     "metadata": {},
     "output_type": "display_data"
    }
   ],
   "source": [
    "ax = sns.countplot(x='label', data=sub_data)"
   ]
  },
  {
   "cell_type": "code",
   "execution_count": 83,
   "metadata": {},
   "outputs": [
    {
     "data": {
      "text/plain": [
       "(5000, 785)"
      ]
     },
     "execution_count": 83,
     "metadata": {},
     "output_type": "execute_result"
    }
   ],
   "source": [
    "sub_data.shape"
   ]
  },
  {
   "cell_type": "markdown",
   "metadata": {},
   "source": [
    "### Algorithm Results\n",
    "\n",
    "The two confusion matrices below show the results when k=3 and k=5. While the performances are similar, k=3 appears to be perform better than k=5. This may be because k=5 overgeneralized the decision boundaries, causing an increase in error. Similar to the diabetes results, these results reflect the scores for a single trial of both k-values. Averaging over multiple k-values may reveal a different relationship than what we see now. Both models had trouble identifying label 4 correctly and mistook it as 9. This is unsurprising as both strokes may appear similar when analyzing handwritten numbers. Both models also struggled classifying 8 and mistook for 5, 3, and 1. 5 and 3 are to be expected due to their general shape but 1 is unusual. It could be that some images have a narrowly written 8, which then start to resemble 1. \n",
    "\n",
    "The change in accuracy in identifying label 0 as a function of k shows us that k=3 is the optimal hyperparameter. As mentioned earlier, increasing k smoothens the decision boundary, which can lead to increases in error. On the other hand having too small of a k value can make labels highly influenced by noise and produce erroneous results. k=3 struck a balance and produced an accuracy of 100% for identifying 150 values. \n",
    "\n",
    "Due to having a relatively large training and test set, the confusion matricies each took over an hour to produce and the accuracy scores for label 0 took ~8 minutes for each value of k. The average iteration rate was 3.25s, which  means that it took roughly 3.25 seconds to predict the label of a single test point.   \n"
   ]
  },
  {
   "cell_type": "code",
   "execution_count": 79,
   "metadata": {},
   "outputs": [
    {
     "name": "stderr",
     "output_type": "stream",
     "text": [
      "100%|██████████| 1500/1500 [1:24:38<00:00,  3.39s/it]\n"
     ]
    },
    {
     "name": "stdout",
     "output_type": "stream",
     "text": [
      "time to compute when k=3 is 5078408.633232117 ms\n"
     ]
    },
    {
     "name": "stderr",
     "output_type": "stream",
     "text": [
      "100%|██████████| 1500/1500 [1:21:10<00:00,  3.25s/it]\n"
     ]
    },
    {
     "name": "stdout",
     "output_type": "stream",
     "text": [
      "time to compute when k=5 is 4870312.37912178 ms\n"
     ]
    },
    {
     "name": "stderr",
     "output_type": "stream",
     "text": [
      "/opt/anaconda3/lib/python3.6/site-packages/ipykernel_launcher.py:14: UserWarning: Matplotlib is currently using module://ipykernel.pylab.backend_inline, which is a non-GUI backend, so cannot show the figure.\n",
      "  \n"
     ]
    },
    {
     "data": {
      "image/png": "[encoded data removed]",
      "text/plain": [
       "<Figure size 792x288 with 4 Axes>"
      ]
     },
     "metadata": {},
     "output_type": "display_data"
    }
   ],
   "source": [
    "fig, ax = plt.subplots(1,2, figsize=(11,4))\n",
    "fig.text(0.5, 0.03, 'Predicted', ha='center')\n",
    "fig.text(0.03, 0.5, 'Actual', va='center', rotation='vertical')\n",
    "np.array\n",
    "distance_names = ['Euclidean', 'Manhattan', 'Cosine']\n",
    "\n",
    "index = 0\n",
    "for k in range(3,6,2):\n",
    "    train,test, test_label = train_test_split('label', sub_data, 350 ) #get training and testing data set  \n",
    "    t, metrics = train_build_eval_images(k, get_e_distance, train, test, test_label)\n",
    "    sns.heatmap(np.asarray(metrics), annot=True, fmt=\"d\", ax=ax[index] )\n",
    "    print('time to compute when k={} is {} ms'.format(k,t))\n",
    "    index+=1\n",
    "fig.show()\n"
   ]
  },
  {
   "cell_type": "code",
   "execution_count": 80,
   "metadata": {},
   "outputs": [],
   "source": [
    "def get0label(test,test_label):\n",
    "    test['label'] = test_label\n",
    "    test = test.groupby(by='label').get_group(0)\n",
    "    test_label = test['label']\n",
    "    test.drop(columns='label', inplace=True)\n",
    "    return (test,test_label)"
   ]
  },
  {
   "cell_type": "code",
   "execution_count": 84,
   "metadata": {},
   "outputs": [
    {
     "name": "stderr",
     "output_type": "stream",
     "text": [
      "/opt/anaconda3/lib/python3.6/site-packages/pandas/core/frame.py:4117: SettingWithCopyWarning: \n",
      "A value is trying to be set on a copy of a slice from a DataFrame\n",
      "\n",
      "See the caveats in the documentation: http://pandas.pydata.org/pandas-docs/stable/user_guide/indexing.html#returning-a-view-versus-a-copy\n",
      "  errors=errors,\n",
      "100%|██████████| 150/150 [08:16<00:00,  3.31s/it]\n",
      "100%|██████████| 150/150 [08:01<00:00,  3.21s/it]\n",
      "100%|██████████| 150/150 [07:42<00:00,  3.09s/it]\n"
     ]
    },
    {
     "data": {
      "text/html": [
       "<div>\n",
       "<style scoped>\n",
       "    .dataframe tbody tr th:only-of-type {\n",
       "        vertical-align: middle;\n",
       "    }\n",
       "\n",
       "    .dataframe tbody tr th {\n",
       "        vertical-align: top;\n",
       "    }\n",
       "\n",
       "    .dataframe thead th {\n",
       "        text-align: right;\n",
       "    }\n",
       "</style>\n",
       "<table border=\"1\" class=\"dataframe\">\n",
       "  <thead>\n",
       "    <tr style=\"text-align: right;\">\n",
       "      <th></th>\n",
       "      <th>label</th>\n",
       "      <th>K-value</th>\n",
       "      <th>Accuracy</th>\n",
       "      <th>time(ms)</th>\n",
       "    </tr>\n",
       "  </thead>\n",
       "  <tbody>\n",
       "    <tr>\n",
       "      <th>0</th>\n",
       "      <td>0.0</td>\n",
       "      <td>1.0</td>\n",
       "      <td>0.986667</td>\n",
       "      <td>496721.596003</td>\n",
       "    </tr>\n",
       "    <tr>\n",
       "      <th>1</th>\n",
       "      <td>0.0</td>\n",
       "      <td>3.0</td>\n",
       "      <td>1.000000</td>\n",
       "      <td>481812.942982</td>\n",
       "    </tr>\n",
       "    <tr>\n",
       "      <th>2</th>\n",
       "      <td>0.0</td>\n",
       "      <td>5.0</td>\n",
       "      <td>0.973333</td>\n",
       "      <td>462815.742970</td>\n",
       "    </tr>\n",
       "  </tbody>\n",
       "</table>\n",
       "</div>"
      ],
      "text/plain": [
       "   label  K-value  Accuracy       time(ms)\n",
       "0    0.0      1.0  0.986667  496721.596003\n",
       "1    0.0      3.0  1.000000  481812.942982\n",
       "2    0.0      5.0  0.973333  462815.742970"
      ]
     },
     "execution_count": 84,
     "metadata": {},
     "output_type": "execute_result"
    }
   ],
   "source": [
    "# TODO: Choose a single digit to measure accuracy and vary k\n",
    "result = pd.DataFrame(columns=['label','K-value', 'Accuracy','time(ms)'])\n",
    "distance_names = ['Euclidean', 'Manhattan', 'Cosine']\n",
    "\n",
    "for k in range(1,6,2):\n",
    "    train,test, test_label = train_test_split('label', sub_data, 350) #get training and testing data set  \n",
    "    test, test_label = get0label(test, test_label) # gets test values with true label of 0\n",
    "    t, metrics = train_build_eval_images(k, get_e_distance, train, test, test_label)\n",
    "    result = result.append({'label': 0, 'K-value': k, 'Accuracy': metrics[0][0]/np.sum(metrics[0]), 'time(ms)': t}, ignore_index=True)\n",
    "result\n",
    "\n",
    "\n"
   ]
  },
  {
   "cell_type": "markdown",
   "metadata": {},
   "source": [
    "### Time Complexity:\n",
    "\n",
    "Given N total samples in our data set we use cN was used for training and dN for testing. For each point in the test set, we have to calcualte the dsitance to cN training points by leveraging M features. Finally we have to sort the list of distances. Overall our TC is (dN * cN * M) + N^2 == O(N^2). If we were to calcualte on an individual bases, then we have O(N*M) = O(N) if N >> M"
   ]
  },
  {
   "cell_type": "markdown",
   "metadata": {},
   "source": [
    "# Sources\n",
    "\n",
    "1. https://machinelearningmastery.com/k-nearest-neighbors-for-machine-learning/\n",
    "2. https://machinelearningmastery.com/undersampling-algorithms-for-imbalanced-classification/\n",
    "3. https://www.kdnuggets.com/2020/11/most-popular-distance-metrics-knn.html\n",
    "4. https://towardsdatascience.com/data-leakage-in-machine-learning-10bdd3eec742\n"
   ]
  }
 ],
 "metadata": {
  "kernelspec": {
   "display_name": "Python 3",
   "language": "python",
   "name": "python3"
  },
  "language_info": {
   "codemirror_mode": {
    "name": "ipython",
    "version": 3
   },
   "file_extension": ".py",
   "mimetype": "text/x-python",
   "name": "python",
   "nbconvert_exporter": "python",
   "pygments_lexer": "ipython3",
   "version": "3.6.10"
  },
  "toc": {
   "base_numbering": 1,
   "nav_menu": {},
   "number_sections": true,
   "sideBar": true,
   "skip_h1_title": false,
   "title_cell": "Table of Contents",
   "title_sidebar": "Contents",
   "toc_cell": false,
   "toc_position": {},
   "toc_section_display": true,
   "toc_window_display": false
  }
 },
 "nbformat": 4,
 "nbformat_minor": 4
}
